{
 "cells": [
  {
   "cell_type": "code",
   "execution_count": 23,
   "metadata": {},
   "outputs": [],
   "source": [
    "import collections\n",
    "import pickle\n",
    "import numpy as np\n",
    "import hashlib\n",
    "import sys\n",
    "sys.path.append(\"../\")\n",
    "from os import path\n",
    "\n",
    "import gradual_shift_better\n",
    "import models\n",
    "import regularization_helps\n",
    "import utils\n",
    "import datasets\n",
    "\n",
    "import tensorflow as tf\n",
    "from tensorflow.keras import metrics\n",
    "from tensorflow.keras.datasets import mnist\n",
    "from tensorflow.keras.utils import to_categorical\n",
    "import pickle"
   ]
  },
  {
   "cell_type": "markdown",
   "metadata": {},
   "source": [
    "### Check portraits_gender_stats"
   ]
  },
  {
   "cell_type": "code",
   "execution_count": 7,
   "metadata": {},
   "outputs": [
    {
     "data": {
      "text/plain": [
       "37921"
      ]
     },
     "execution_count": 7,
     "metadata": {},
     "output_type": "execute_result"
    }
   ],
   "source": [
    "objects = []\n",
    "with (open(\"../portraits_gender_stats\", \"rb\")) as openfile:\n",
    "    while True:\n",
    "        try:\n",
    "            objects.append(pickle.load(openfile))\n",
    "        except EOFError:\n",
    "            break\n",
    "len(objects[0])"
   ]
  },
  {
   "cell_type": "markdown",
   "metadata": {},
   "source": [
    "### Explore Hinge and Ramp Losses"
   ]
  },
  {
   "cell_type": "code",
   "execution_count": null,
   "metadata": {},
   "outputs": [],
   "source": [
    "# YZ: Try different losses for main paper experiments\n",
    "portraits_conv_experiment_ramp()\n",
    "print(\"Portraits conv experiment with ramp loss\")\n",
    "experiment_results('saved_files/portraits_ramp.dat')\n",
    "rotated_mnist_60_conv_experiment_ramp()\n",
    "print(\"Rot MNIST conv experiment with ramp loss\")\n",
    "experiment_results('saved_files/rot_mnist_60_conv_ramp.dat')\n",
    "gaussian_linear_experiment_ramp()\n",
    "print(\"Gaussian linear experiment with ramp loss\")\n",
    "experiment_results('saved_files/gaussian_ramp.dat')\n",
    "print(\"Dialing MNIST ratios conv experiment with ramp loss\")\n",
    "dialing_ratios_mnist_experiment_ramp()\n",
    "experiment_results('saved_files/dialing_rot_mnist_60_conv_ramp.dat')\n",
    "\n",
    "portraits_conv_experiment_hinge()\n",
    "print(\"Portraits conv experiment with hinge loss\")\n",
    "experiment_results('saved_files/portraits_hinge.dat')\n",
    "rotated_mnist_60_conv_experiment_hinge()\n",
    "print(\"Rot MNIST conv experiment with hinge loss\")\n",
    "experiment_results('saved_files/rot_mnist_60_conv_hinge.dat')\n",
    "gaussian_linear_experiment_hinge()\n",
    "print(\"Gaussian linear experiment with hinge loss\")\n",
    "experiment_results('saved_files/gaussian_hinge.dat')\n",
    "print(\"Dialing MNIST ratios conv experiment with hinge loss\")\n",
    "dialing_ratios_mnist_experiment_hinge()\n",
    "experiment_results('saved_files/dialing_rot_mnist_60_conv_hinge.dat')"
   ]
  }
 ],
 "metadata": {
  "kernelspec": {
   "display_name": "Python 3",
   "language": "python",
   "name": "python3"
  },
  "language_info": {
   "codemirror_mode": {
    "name": "ipython",
    "version": 3
   },
   "file_extension": ".py",
   "mimetype": "text/x-python",
   "name": "python",
   "nbconvert_exporter": "python",
   "pygments_lexer": "ipython3",
   "version": "3.8.5"
  }
 },
 "nbformat": 4,
 "nbformat_minor": 4
}
