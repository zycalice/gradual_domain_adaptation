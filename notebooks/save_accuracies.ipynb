{
 "cells": [
  {
   "cell_type": "code",
   "execution_count": 9,
   "metadata": {},
   "outputs": [],
   "source": [
    "import collections\n",
    "import pickle\n",
    "import numpy as np\n",
    "import hashlib\n",
    "import sys\n",
    "sys.path.append(\"../\")\n",
    "from os import path\n",
    "\n",
    "import gradual_shift_better\n",
    "import models\n",
    "import regularization_helps\n",
    "import utils"
   ]
  },
  {
   "cell_type": "markdown",
   "metadata": {},
   "source": [
    "### Check portraits_gender_stats"
   ]
  },
  {
   "cell_type": "code",
   "execution_count": 7,
   "metadata": {},
   "outputs": [
    {
     "data": {
      "text/plain": [
       "37921"
      ]
     },
     "execution_count": 7,
     "metadata": {},
     "output_type": "execute_result"
    }
   ],
   "source": [
    "objects = []\n",
    "with (open(\"../portraits_gender_stats\", \"rb\")) as openfile:\n",
    "    while True:\n",
    "        try:\n",
    "            objects.append(pickle.load(openfile))\n",
    "        except EOFError:\n",
    "            break\n",
    "len(objects[0])"
   ]
  },
  {
   "cell_type": "markdown",
   "metadata": {},
   "source": [
    "### Output accuracies from saved results"
   ]
  },
  {
   "cell_type": "code",
   "execution_count": 20,
   "metadata": {},
   "outputs": [
    {
     "name": "stdout",
     "output_type": "stream",
     "text": [
      "\n",
      "=== portraits ===\n",
      "\n",
      "Non-adaptive accuracy and loss on source (%):  97.75999903678894 0.2531369438861316\n",
      "Non-adaptive accuracy and loss on target (%):  75.85999965667725 1.653270056968194\n",
      "Gradual self-train accuracy and loss (%):  82.59999990463257 0.7071589877389027\n",
      "Target self-train accuracy and loss (%):  78.63999843597412 1.7225272679587198\n",
      "All self-train accuracy and loss (%):  77.15999960899353 2.7267729937528604\n",
      "Best of Target self-train accuracies and loss (%):  80.1199996471405 1.080603968891273\n",
      "Best of All self-train accuracies and loss (%):  79.00000095367432 2.5034286961657175\n",
      "\n",
      "=== gaussian ===\n",
      "\n",
      "Non-adaptive accuracy and loss on source (%):  99.6999979019165 0.0\n",
      "Non-adaptive accuracy and loss on target (%):  56.46000027656555 0.2853010418611092\n",
      "Gradual self-train accuracy and loss (%):  99.59999918937683 0.08058717499630177\n",
      "Target self-train accuracy and loss (%):  48.100000619888306 0.0\n",
      "All self-train accuracy and loss (%):  96.64000153541565 0.036039680281280434\n",
      "Best of Target self-train accuracies and loss (%):  65.13999938964844 0.43047511768454144\n",
      "Best of All self-train accuracies and loss (%):  96.64000153541565 0.036039680281280434\n",
      "\n",
      "=== rot_mnist_60_conv ===\n",
      "\n",
      "Non-adaptive accuracy and loss on source (%):  97.28000044822693 0.15004653007386393\n",
      "Non-adaptive accuracy and loss on target (%):  32.769999504089355 1.3417794666605005\n",
      "Gradual self-train accuracy and loss (%):  87.69999980926514 2.557539514274029\n",
      "Target self-train accuracy and loss (%):  33.60000014305115 2.0751794660939176\n",
      "All self-train accuracy and loss (%):  36.65000021457672 1.4870651804467474\n",
      "Best of Target self-train accuracies and loss (%):  34.39999997615814 2.0978751372503\n",
      "Best of All self-train accuracies and loss (%):  37.02000021934509 1.448832906810611\n",
      "\n",
      "=== dialing_rot_mnist_60_conv ===\n",
      "\n",
      "Non-adaptive accuracy and loss on source (%):  97.28000044822693 0.15004653007386393\n",
      "Non-adaptive accuracy and loss on target (%):  32.609999775886536 1.3922176928385455\n",
      "Gradual self-train accuracy and loss (%):  27.479999661445618 2.4991659497352994\n",
      "Target self-train accuracy and loss (%):  33.55000019073486 1.8399016310065999\n",
      "All self-train accuracy and loss (%):  34.209999442100525 2.0111295393734276\n",
      "Best of Target self-train accuracies and loss (%):  34.37999963760376 1.7127921047231525\n",
      "Best of All self-train accuracies and loss (%):  35.1500004529953 1.989837881771847\n"
     ]
    }
   ],
   "source": [
    "folder = \"../saved_files/\"\n",
    "main_results = ['portraits', 'gaussian', 'rot_mnist_60_conv', 'dialing_rot_mnist_60_conv']\n",
    "\n",
    "for r in main_results:\n",
    "    print(\"\\n=== \" + r + \" ===\")\n",
    "    \n",
    "    file_path = folder + r + '.dat'\n",
    "    if path.isfile(file_path):\n",
    "        gradual_shift_better.experiment_results(file_path)\n",
    "    else:\n",
    "        print(\"\\n[not ready yet]\")"
   ]
  }
 ],
 "metadata": {
  "kernelspec": {
   "display_name": "Python 3",
   "language": "python",
   "name": "python3"
  },
  "language_info": {
   "codemirror_mode": {
    "name": "ipython",
    "version": 3
   },
   "file_extension": ".py",
   "mimetype": "text/x-python",
   "name": "python",
   "nbconvert_exporter": "python",
   "pygments_lexer": "ipython3",
   "version": "3.8.5"
  }
 },
 "nbformat": 4,
 "nbformat_minor": 4
}
